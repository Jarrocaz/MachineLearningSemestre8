{
  "cells": [
    {
      "cell_type": "markdown",
      "metadata": {
        "id": "view-in-github",
        "colab_type": "text"
      },
      "source": [
        "<a href=\"https://colab.research.google.com/github/Jarrocaz/MachineLearningSemestre8/blob/main/Sem_01/Sem1_Basics.ipynb\" target=\"_parent\"><img src=\"https://colab.research.google.com/assets/colab-badge.svg\" alt=\"Open In Colab\"/></a>"
      ]
    },
    {
      "cell_type": "markdown",
      "metadata": {
        "id": "YVgm7rOvxPTv"
      },
      "source": [
        "# Let's start on the basics. Variables and arrays"
      ]
    },
    {
      "cell_type": "markdown",
      "metadata": {
        "id": "9UZAqJ-9xPTz"
      },
      "source": [
        "### First, import some libraries"
      ]
    },
    {
      "cell_type": "code",
      "execution_count": 1,
      "metadata": {
        "id": "h063ER0ixPT0"
      },
      "outputs": [],
      "source": [
        "import numpy as np"
      ]
    },
    {
      "cell_type": "code",
      "execution_count": null,
      "metadata": {
        "id": "GZZwCvknxPT2",
        "outputId": "9f87bd73-4e14-4194-c846-13c0625e8fd4"
      },
      "outputs": [
        {
          "name": "stdout",
          "output_type": "stream",
          "text": [
            "Hola\n"
          ]
        }
      ],
      "source": [
        "array_1 = _ # Create an array of N values\n",
        "array_2 = _ # Create an array of random int values\n",
        "            # with the same lenght as array_1\n",
        "_ # print both array_1 and array_2\n",
        "_ # print both array_1 and array_2 shapes\n",
        "_ # print summation of array_1 and array_2\n",
        "\n",
        "print(\"Hola\")"
      ]
    },
    {
      "cell_type": "code",
      "execution_count": null,
      "metadata": {
        "id": "sJjNO01DxPT4"
      },
      "outputs": [],
      "source": [
        "_ # Replace the value of array_1 in pos 3 by 70\n",
        "_ # Print summation again"
      ]
    },
    {
      "cell_type": "code",
      "execution_count": null,
      "metadata": {
        "id": "k-jZ11x-xPT5"
      },
      "outputs": [],
      "source": [
        "_ # Apply element-wise multiplication among array_1 and array_2\n",
        "_ # Print results"
      ]
    },
    {
      "cell_type": "markdown",
      "metadata": {
        "id": "elDQI4LOh42q"
      },
      "source": [
        "# Playing with some images! Introduction to OpenCV\n",
        "\n",
        "Download the image [lena.jpg](https://drive.google.com/file/d/1gH5sJN__2g7f9ndLhLvTECdOBJIGUbg_/view) before getting started!\n"
      ]
    },
    {
      "cell_type": "markdown",
      "metadata": {
        "id": "LlPxTzqxj56X"
      },
      "source": [
        "### First, let's mount Google drive"
      ]
    },
    {
      "cell_type": "code",
      "execution_count": 3,
      "metadata": {
        "id": "8oKgOfUFnXpo",
        "colab": {
          "base_uri": "https://localhost:8080/",
          "height": 339
        },
        "outputId": "cf39f506-e549-4a52-ce24-7a08e2571d18"
      },
      "outputs": [
        {
          "output_type": "error",
          "ename": "MessageError",
          "evalue": "Error: credential propagation was unsuccessful",
          "traceback": [
            "\u001b[0;31m---------------------------------------------------------------------------\u001b[0m",
            "\u001b[0;31mMessageError\u001b[0m                              Traceback (most recent call last)",
            "\u001b[0;32m<ipython-input-3-d5df0069828e>\u001b[0m in \u001b[0;36m<cell line: 2>\u001b[0;34m()\u001b[0m\n\u001b[1;32m      1\u001b[0m \u001b[0;32mfrom\u001b[0m \u001b[0mgoogle\u001b[0m\u001b[0;34m.\u001b[0m\u001b[0mcolab\u001b[0m \u001b[0;32mimport\u001b[0m \u001b[0mdrive\u001b[0m\u001b[0;34m\u001b[0m\u001b[0;34m\u001b[0m\u001b[0m\n\u001b[0;32m----> 2\u001b[0;31m \u001b[0mdrive\u001b[0m\u001b[0;34m.\u001b[0m\u001b[0mmount\u001b[0m\u001b[0;34m(\u001b[0m\u001b[0;34m'/content/drive'\u001b[0m\u001b[0;34m)\u001b[0m\u001b[0;34m\u001b[0m\u001b[0;34m\u001b[0m\u001b[0m\n\u001b[0m",
            "\u001b[0;32m/usr/local/lib/python3.10/dist-packages/google/colab/drive.py\u001b[0m in \u001b[0;36mmount\u001b[0;34m(mountpoint, force_remount, timeout_ms, readonly)\u001b[0m\n\u001b[1;32m     98\u001b[0m \u001b[0;32mdef\u001b[0m \u001b[0mmount\u001b[0m\u001b[0;34m(\u001b[0m\u001b[0mmountpoint\u001b[0m\u001b[0;34m,\u001b[0m \u001b[0mforce_remount\u001b[0m\u001b[0;34m=\u001b[0m\u001b[0;32mFalse\u001b[0m\u001b[0;34m,\u001b[0m \u001b[0mtimeout_ms\u001b[0m\u001b[0;34m=\u001b[0m\u001b[0;36m120000\u001b[0m\u001b[0;34m,\u001b[0m \u001b[0mreadonly\u001b[0m\u001b[0;34m=\u001b[0m\u001b[0;32mFalse\u001b[0m\u001b[0;34m)\u001b[0m\u001b[0;34m:\u001b[0m\u001b[0;34m\u001b[0m\u001b[0;34m\u001b[0m\u001b[0m\n\u001b[1;32m     99\u001b[0m   \u001b[0;34m\"\"\"Mount your Google Drive at the specified mountpoint path.\"\"\"\u001b[0m\u001b[0;34m\u001b[0m\u001b[0;34m\u001b[0m\u001b[0m\n\u001b[0;32m--> 100\u001b[0;31m   return _mount(\n\u001b[0m\u001b[1;32m    101\u001b[0m       \u001b[0mmountpoint\u001b[0m\u001b[0;34m,\u001b[0m\u001b[0;34m\u001b[0m\u001b[0;34m\u001b[0m\u001b[0m\n\u001b[1;32m    102\u001b[0m       \u001b[0mforce_remount\u001b[0m\u001b[0;34m=\u001b[0m\u001b[0mforce_remount\u001b[0m\u001b[0;34m,\u001b[0m\u001b[0;34m\u001b[0m\u001b[0;34m\u001b[0m\u001b[0m\n",
            "\u001b[0;32m/usr/local/lib/python3.10/dist-packages/google/colab/drive.py\u001b[0m in \u001b[0;36m_mount\u001b[0;34m(mountpoint, force_remount, timeout_ms, ephemeral, readonly)\u001b[0m\n\u001b[1;32m    127\u001b[0m   )\n\u001b[1;32m    128\u001b[0m   \u001b[0;32mif\u001b[0m \u001b[0mephemeral\u001b[0m\u001b[0;34m:\u001b[0m\u001b[0;34m\u001b[0m\u001b[0;34m\u001b[0m\u001b[0m\n\u001b[0;32m--> 129\u001b[0;31m     _message.blocking_request(\n\u001b[0m\u001b[1;32m    130\u001b[0m         \u001b[0;34m'request_auth'\u001b[0m\u001b[0;34m,\u001b[0m \u001b[0mrequest\u001b[0m\u001b[0;34m=\u001b[0m\u001b[0;34m{\u001b[0m\u001b[0;34m'authType'\u001b[0m\u001b[0;34m:\u001b[0m \u001b[0;34m'dfs_ephemeral'\u001b[0m\u001b[0;34m}\u001b[0m\u001b[0;34m,\u001b[0m \u001b[0mtimeout_sec\u001b[0m\u001b[0;34m=\u001b[0m\u001b[0;32mNone\u001b[0m\u001b[0;34m\u001b[0m\u001b[0;34m\u001b[0m\u001b[0m\n\u001b[1;32m    131\u001b[0m     )\n",
            "\u001b[0;32m/usr/local/lib/python3.10/dist-packages/google/colab/_message.py\u001b[0m in \u001b[0;36mblocking_request\u001b[0;34m(request_type, request, timeout_sec, parent)\u001b[0m\n\u001b[1;32m    174\u001b[0m       \u001b[0mrequest_type\u001b[0m\u001b[0;34m,\u001b[0m \u001b[0mrequest\u001b[0m\u001b[0;34m,\u001b[0m \u001b[0mparent\u001b[0m\u001b[0;34m=\u001b[0m\u001b[0mparent\u001b[0m\u001b[0;34m,\u001b[0m \u001b[0mexpect_reply\u001b[0m\u001b[0;34m=\u001b[0m\u001b[0;32mTrue\u001b[0m\u001b[0;34m\u001b[0m\u001b[0;34m\u001b[0m\u001b[0m\n\u001b[1;32m    175\u001b[0m   )\n\u001b[0;32m--> 176\u001b[0;31m   \u001b[0;32mreturn\u001b[0m \u001b[0mread_reply_from_input\u001b[0m\u001b[0;34m(\u001b[0m\u001b[0mrequest_id\u001b[0m\u001b[0;34m,\u001b[0m \u001b[0mtimeout_sec\u001b[0m\u001b[0;34m)\u001b[0m\u001b[0;34m\u001b[0m\u001b[0;34m\u001b[0m\u001b[0m\n\u001b[0m",
            "\u001b[0;32m/usr/local/lib/python3.10/dist-packages/google/colab/_message.py\u001b[0m in \u001b[0;36mread_reply_from_input\u001b[0;34m(message_id, timeout_sec)\u001b[0m\n\u001b[1;32m    101\u001b[0m     ):\n\u001b[1;32m    102\u001b[0m       \u001b[0;32mif\u001b[0m \u001b[0;34m'error'\u001b[0m \u001b[0;32min\u001b[0m \u001b[0mreply\u001b[0m\u001b[0;34m:\u001b[0m\u001b[0;34m\u001b[0m\u001b[0;34m\u001b[0m\u001b[0m\n\u001b[0;32m--> 103\u001b[0;31m         \u001b[0;32mraise\u001b[0m \u001b[0mMessageError\u001b[0m\u001b[0;34m(\u001b[0m\u001b[0mreply\u001b[0m\u001b[0;34m[\u001b[0m\u001b[0;34m'error'\u001b[0m\u001b[0;34m]\u001b[0m\u001b[0;34m)\u001b[0m\u001b[0;34m\u001b[0m\u001b[0;34m\u001b[0m\u001b[0m\n\u001b[0m\u001b[1;32m    104\u001b[0m       \u001b[0;32mreturn\u001b[0m \u001b[0mreply\u001b[0m\u001b[0;34m.\u001b[0m\u001b[0mget\u001b[0m\u001b[0;34m(\u001b[0m\u001b[0;34m'data'\u001b[0m\u001b[0;34m,\u001b[0m \u001b[0;32mNone\u001b[0m\u001b[0;34m)\u001b[0m\u001b[0;34m\u001b[0m\u001b[0;34m\u001b[0m\u001b[0m\n\u001b[1;32m    105\u001b[0m \u001b[0;34m\u001b[0m\u001b[0m\n",
            "\u001b[0;31mMessageError\u001b[0m: Error: credential propagation was unsuccessful"
          ]
        }
      ],
      "source": [
        "from google.colab import drive\n",
        "drive.mount('/content/drive')"
      ]
    },
    {
      "cell_type": "markdown",
      "metadata": {
        "id": "f247yZL2lesj"
      },
      "source": [
        "### Import some libraries"
      ]
    },
    {
      "cell_type": "code",
      "execution_count": null,
      "metadata": {
        "id": "oF9tZiMfmsj7"
      },
      "outputs": [],
      "source": [
        "# Import some libraries\n",
        "import numpy as np\n",
        "import cv2\n",
        "import matplotlib.pyplot as plt"
      ]
    },
    {
      "cell_type": "markdown",
      "metadata": {
        "id": "2ReY5dJxlr9u"
      },
      "source": [
        "## Load an image using OpenCV"
      ]
    },
    {
      "cell_type": "code",
      "execution_count": null,
      "metadata": {
        "id": "_zd54qrQnL5s"
      },
      "outputs": [],
      "source": [
        "# Loading a color image\n",
        "img = cv2.imread( _ )\n",
        "_\n",
        "plt.imshow(img) # plots an image"
      ]
    },
    {
      "cell_type": "markdown",
      "metadata": {
        "id": "q0hT6fRLlzJg"
      },
      "source": [
        "### Let's play with the data"
      ]
    },
    {
      "cell_type": "code",
      "execution_count": null,
      "metadata": {
        "id": "yZLwenrFpXik"
      },
      "outputs": [],
      "source": [
        "# Printing the image shape (size of the image)\n",
        "_"
      ]
    },
    {
      "cell_type": "code",
      "execution_count": null,
      "metadata": {
        "id": "tUWFgMAAodjz"
      },
      "outputs": [],
      "source": [
        "# Looking through the image...\n",
        "# print among image indexes\n"
      ]
    },
    {
      "cell_type": "code",
      "execution_count": null,
      "metadata": {
        "id": "dtGAgJFDoznz"
      },
      "outputs": [],
      "source": [
        "# Changing its channels values!\n",
        "img = cv2.imread( _ )\n",
        "_\n",
        "plt.imshow(img) # Voila!"
      ]
    },
    {
      "cell_type": "markdown",
      "metadata": {
        "id": "Ihcj9fBBl7A2"
      },
      "source": [
        "### Load an image in grayscale"
      ]
    },
    {
      "cell_type": "code",
      "execution_count": null,
      "metadata": {
        "id": "s_8JrCCmpRZ6"
      },
      "outputs": [],
      "source": [
        "# Loading a color image in grayscale\n",
        "img_gray = cv2.imread( _ )\n",
        "plt.imshow(img_gray, _ )"
      ]
    },
    {
      "cell_type": "markdown",
      "metadata": {
        "id": "lOVH3OHJmBpi"
      },
      "source": [
        "### Play with the image\n"
      ]
    },
    {
      "cell_type": "code",
      "execution_count": null,
      "metadata": {
        "id": "QPyE_yAipdcr"
      },
      "outputs": [],
      "source": [
        "# Printing the image shape\n",
        "_"
      ]
    },
    {
      "cell_type": "code",
      "execution_count": null,
      "metadata": {
        "id": "w5M1FCPXpU_O"
      },
      "outputs": [],
      "source": [
        "# Regarding through the image... Again\n"
      ]
    },
    {
      "cell_type": "markdown",
      "metadata": {
        "id": "tNpW6yKem8pI"
      },
      "source": [
        "### Going further"
      ]
    },
    {
      "cell_type": "code",
      "execution_count": null,
      "metadata": {
        "id": "z2ZvGkUopl1w"
      },
      "outputs": [],
      "source": [
        "# Messing everything around.\n",
        "img = cv2.imread( _ )\n",
        "_\n",
        "plt.imshow(img_gray, _ )"
      ]
    },
    {
      "cell_type": "code",
      "execution_count": null,
      "metadata": {
        "id": "9oBPwTO1qudF"
      },
      "outputs": [],
      "source": [
        "# Playing with image intensities\n",
        "img_gray = cv2.imread( _ )\n",
        "\n",
        "for r in _  :  # Go through rows\n",
        "  for c in _ : # Go through cols\n",
        "    if _ : # Create a simple condition\n",
        "      _ # Do something\n",
        "\n",
        "plt.imshow(img_gray, _ )"
      ]
    },
    {
      "cell_type": "markdown",
      "metadata": {
        "id": "rHdPgl1xnESb"
      },
      "source": [
        "### Save an image using OpenCV"
      ]
    },
    {
      "cell_type": "code",
      "execution_count": null,
      "metadata": {
        "id": "c8WEwIZsv8KN"
      },
      "outputs": [],
      "source": [
        "cv2.imwrite('newlena.png',img_gray)"
      ]
    },
    {
      "cell_type": "markdown",
      "metadata": {
        "id": "r4wGIa1fnQt8"
      },
      "source": [
        "### Crop the image - taking regions of interest (ROI)"
      ]
    },
    {
      "cell_type": "code",
      "execution_count": null,
      "metadata": {
        "id": "4-L1KhBXyBXL"
      },
      "outputs": [],
      "source": [
        "# Extract some ROI\n",
        "roi = _\n",
        "plt.imshow(roi, _ )"
      ]
    },
    {
      "cell_type": "code",
      "execution_count": null,
      "metadata": {
        "id": "dSmSXaKAyimj"
      },
      "outputs": [],
      "source": [
        "img_gray[ _ , _ ] = roi\n",
        "plt.imshow(img_gray, _ )"
      ]
    },
    {
      "cell_type": "markdown",
      "metadata": {
        "id": "VQUx73wcxLTq"
      },
      "source": [
        "## Load an image using pillow (PIL)"
      ]
    },
    {
      "cell_type": "code",
      "execution_count": null,
      "metadata": {
        "id": "MZ2QUbjQxbyN"
      },
      "outputs": [],
      "source": [
        "from PIL import Image"
      ]
    },
    {
      "cell_type": "code",
      "execution_count": null,
      "metadata": {
        "id": "5vYjm2wcxLTt"
      },
      "outputs": [],
      "source": [
        "# Loading a color image\n",
        "img = Image.open( _ )\n",
        "plt.imshow(img) # plots an image"
      ]
    },
    {
      "cell_type": "code",
      "execution_count": null,
      "metadata": {
        "id": "-zi55x_ZyOey"
      },
      "outputs": [],
      "source": [
        "print (img[:10, :10]) ## Error. This is not an array"
      ]
    },
    {
      "cell_type": "code",
      "execution_count": null,
      "metadata": {
        "id": "bc9sJ40ayaMp"
      },
      "outputs": [],
      "source": [
        "img = np.asarray( _ ) ## Convert to an array\n",
        "print (img[ _ , _ ]) ## Now it works!\n",
        "print (img.shape)"
      ]
    },
    {
      "cell_type": "markdown",
      "metadata": {
        "id": "u2c-jv1Jy4_4"
      },
      "source": [
        "### Load the image in grayscale"
      ]
    },
    {
      "cell_type": "code",
      "execution_count": null,
      "metadata": {
        "id": "Acnn3bLvy3Eg"
      },
      "outputs": [],
      "source": [
        "img = Image.open( _ ).convert(\"L\")\n",
        "plt.imshow(img, _ ) # plots an image"
      ]
    }
  ],
  "metadata": {
    "colab": {
      "collapsed_sections": [
        "elDQI4LOh42q",
        "LlPxTzqxj56X",
        "f247yZL2lesj",
        "2ReY5dJxlr9u",
        "q0hT6fRLlzJg",
        "Ihcj9fBBl7A2",
        "lOVH3OHJmBpi",
        "tNpW6yKem8pI",
        "rHdPgl1xnESb",
        "r4wGIa1fnQt8",
        "VQUx73wcxLTq",
        "u2c-jv1Jy4_4"
      ],
      "provenance": [],
      "include_colab_link": true
    },
    "kernelspec": {
      "display_name": "Python 3",
      "name": "python3"
    },
    "language_info": {
      "codemirror_mode": {
        "name": "ipython",
        "version": 3
      },
      "file_extension": ".py",
      "mimetype": "text/x-python",
      "name": "python",
      "nbconvert_exporter": "python",
      "pygments_lexer": "ipython3",
      "version": "3.12.2"
    }
  },
  "nbformat": 4,
  "nbformat_minor": 0
}